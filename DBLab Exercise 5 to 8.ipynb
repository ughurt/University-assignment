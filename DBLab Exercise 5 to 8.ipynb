{
    "metadata": {
        "kernelspec": {
            "name": "SQL",
            "display_name": "SQL",
            "language": "sql"
        },
        "language_info": {
            "name": "sql",
            "version": ""
        }
    },
    "nbformat_minor": 2,
    "nbformat": 4,
    "cells": [
        {
            "cell_type": "markdown",
            "source": [
                "### **EXERCISE 5**"
            ],
            "metadata": {
                "azdata_cell_guid": "03200b22-ec10-4d07-ac46-c3395ae2f8b8"
            },
            "attachments": {}
        },
        {
            "cell_type": "markdown",
            "source": [
                "Ex 5:  Arranging products by Listprice in ascending order"
            ],
            "metadata": {
                "azdata_cell_guid": "8f0af223-f70b-470c-a9fa-0cf684689663"
            },
            "attachments": {}
        },
        {
            "cell_type": "code",
            "source": [
                "SELECT \n",
                "    ProductID,\n",
                "    Name,\n",
                "    ListPrice\n",
                "FROM \n",
                "    SalesLT.Product\n",
                "ORDER BY \n",
                "    ListPrice ASC;"
            ],
            "metadata": {
                "azdata_cell_guid": "ae0f134d-ef2f-4260-86c0-bb0e57c29010",
                "language": "sql"
            },
            "outputs": [],
            "execution_count": null
        },
        {
            "cell_type": "markdown",
            "source": [
                "This query pulls product details from the SalesLT.Product table and uses the ListPrice column to determine the ascending order."
            ],
            "metadata": {
                "language": "sql",
                "azdata_cell_guid": "d2e27fe7-5b11-4479-8191-3feebdf840ae"
            },
            "attachments": {}
        },
        {
            "cell_type": "markdown",
            "source": [
                "Ex 5: Arranging products by Listprice in descending order"
            ],
            "metadata": {
                "azdata_cell_guid": "cec38ea1-28eb-4d04-b127-ebaab3f8e87f"
            },
            "attachments": {}
        },
        {
            "cell_type": "code",
            "source": [
                "SELECT \n",
                "    ProductID,\n",
                "    Name,\n",
                "    ListPrice\n",
                "FROM \n",
                "    SalesLT.Product\n",
                "ORDER BY \n",
                "    ListPrice DESC;"
            ],
            "metadata": {
                "azdata_cell_guid": "419fd803-5220-4ecb-b3e4-f10563b634bf",
                "language": "sql"
            },
            "outputs": [],
            "execution_count": null
        },
        {
            "cell_type": "markdown",
            "source": [
                "The SalesLT.Product table's product details are selected by this query, which then arranges them according to the ListPrice field in descending order."
            ],
            "metadata": {
                "language": "sql",
                "azdata_cell_guid": "e6b2e917-af8a-4491-8dbd-07c98354913f"
            },
            "attachments": {}
        },
        {
            "cell_type": "markdown",
            "source": [
                "Ex 5: Arranging products by Listprice in ascending order with aliases."
            ],
            "metadata": {
                "azdata_cell_guid": "de4dfc24-fed2-43a0-b1dd-795a88a6a2af"
            },
            "attachments": {}
        },
        {
            "cell_type": "code",
            "source": [
                "SELECT \n",
                "    ProductID AS PID,\n",
                "    Name AS ProductName,\n",
                "    ListPrice AS Price\n",
                "FROM \n",
                "    SalesLT.Product\n",
                "ORDER BY \n",
                "    Price ASC;"
            ],
            "metadata": {
                "azdata_cell_guid": "7aabca37-59a5-45af-87d4-efb285e86685",
                "language": "sql"
            },
            "outputs": [],
            "execution_count": null
        },
        {
            "cell_type": "markdown",
            "source": [
                "Using column aliases, this query pulls product details from the SalesLT.Product table and arranges them in ascending order according to the Price alias in the ListPrice column."
            ],
            "metadata": {
                "language": "sql",
                "azdata_cell_guid": "09ada203-d469-4195-b8cd-fbda25ffec70"
            },
            "attachments": {}
        },
        {
            "cell_type": "markdown",
            "source": [
                "Ex 5: filtering Products"
            ],
            "metadata": {
                "azdata_cell_guid": "5c24972a-f9c8-4ac8-b54c-a66d5ee79a04"
            },
            "attachments": {}
        },
        {
            "cell_type": "code",
            "source": [
                "SELECT \n",
                "    ProductID,\n",
                "    Name,\n",
                "    ProductCategoryID\n",
                "FROM \n",
                "    SalesLT.Product\n",
                "WHERE \n",
                "    ProductCategoryID IN (1, 2, 3);\n",
                "\n",
                "\n",
                "SELECT \n",
                "    ProductID,\n",
                "    Name,\n",
                "    ListPrice\n",
                "FROM \n",
                "    SalesLT.Product\n",
                "WHERE \n",
                "    ListPrice BETWEEN 50 AND 150;\n",
                "\n",
                "\n",
                "SELECT \n",
                "    ProductID,\n",
                "    Name\n",
                "FROM \n",
                "    SalesLT.Product\n",
                "WHERE \n",
                "    Name LIKE 'A%';\n",
                "\n",
                "\n",
                "SELECT \n",
                "    ProductID,\n",
                "    Name,\n",
                "    ListPrice,\n",
                "    Weight\n",
                "FROM \n",
                "    SalesLT.Product\n",
                "WHERE \n",
                "    ListPrice > 100 AND Weight > 10;\n",
                "\n",
                "\n",
                "SELECT \n",
                "    ProductID,\n",
                "    Name,\n",
                "    ListPrice,\n",
                "    Weight\n",
                "FROM \n",
                "    SalesLT.Product\n",
                "WHERE \n",
                "    ListPrice < 50 OR Weight > 200;"
            ],
            "metadata": {
                "azdata_cell_guid": "c882299b-3520-442d-a7c4-98f09825e6f9",
                "language": "sql"
            },
            "outputs": [],
            "execution_count": null
        },
        {
            "cell_type": "markdown",
            "source": [
                "These queries use various criteria to filter products from the SalesLT.Product table:  \n",
                "  \n",
                "1\\. Uses the \"in\" operator with values of 1, 2, or 3 to filter products based on ProductCategoryID.  \n",
                "  \n",
                "2\\. Uses the \"Between\" operator to filter products based on ListPrice between 50 and 150.  \n",
                "  \n",
                "3\\. Uses the \"Like\" operator to filter products by Name that begin with 'A'.  \n",
                "  \n",
                "4- Product filtering based on List Price \\> 100 and Weight \\> 10.  \n",
                "  \n",
                "5\\. Products are filtered by List Price \\< 50 or Weight \\> 200."
            ],
            "metadata": {
                "language": "sql",
                "azdata_cell_guid": "0faf6750-e53d-4e1e-9538-50b56890e351"
            },
            "attachments": {}
        },
        {
            "cell_type": "markdown",
            "source": [
                "Ex 5: filtering rows when columns are Null."
            ],
            "metadata": {
                "azdata_cell_guid": "a989333e-3255-4d36-9811-57facc74c5c6"
            },
            "attachments": {}
        },
        {
            "cell_type": "code",
            "source": [
                "SELECT \n",
                "    ProductID,\n",
                "    Name,\n",
                "    Size\n",
                "FROM \n",
                "    SalesLT.Product\n",
                "WHERE \n",
                "    Size IS NULL;\n",
                "\n",
                "-- filtering customers when MiddleName is Null\n",
                "\n",
                "SELECT \n",
                "    CustomerID,\n",
                "    FirstName,\n",
                "    MiddleName,\n",
                "    LastName\n",
                "FROM \n",
                "    SalesLT.Customer\n",
                "WHERE \n",
                "    MiddleName IS NULL;"
            ],
            "metadata": {
                "azdata_cell_guid": "b729615e-cf10-46af-804b-43e29e3bcbc9",
                "language": "sql"
            },
            "outputs": [],
            "execution_count": null
        },
        {
            "cell_type": "markdown",
            "source": [
                "The entries in question are retrieved from the corresponding tables by these queries, which filter them according to whether or not certain columns contain NULL values. Whereas the second query filters customers from the SalesLT.Customer table where the MiddleName column is NULL, the first query filters products from the SalesLT.Product table where the Size column is NULL."
            ],
            "metadata": {
                "language": "sql",
                "azdata_cell_guid": "0fd09127-cb24-43c1-87e4-572be0b97b45"
            },
            "attachments": {}
        },
        {
            "cell_type": "markdown",
            "source": [
                "### **EXERCISE 6:**"
            ],
            "metadata": {
                "language": "sql",
                "azdata_cell_guid": "a5740887-b706-45a2-99b4-caac12733a33"
            },
            "attachments": {}
        },
        {
            "cell_type": "markdown",
            "source": [
                "Ex 6:  Explicit and implicit data conversion"
            ],
            "metadata": {
                "language": "sql",
                "azdata_cell_guid": "4005f4f6-e735-4d32-b4f8-00b0ed3a23af"
            },
            "attachments": {}
        },
        {
            "cell_type": "code",
            "source": [
                "SELECT \n",
                "    ProductID,\n",
                "    Name,\n",
                "    ListPrice,\n",
                "    CAST(ListPrice AS NVARCHAR) AS ListPriceString\n",
                "FROM \n",
                "    SalesLT.Product;\n",
                "\n",
                "\n",
                "\n",
                "SELECT \n",
                "    ProductID,\n",
                "    Name,\n",
                "    ListPrice,\n",
                "    CONVERT(NVARCHAR, ListPrice) AS ListPriceString\n",
                "FROM \n",
                "    SalesLT.Product;\n",
                "    \n",
                "\n",
                "\n",
                "SELECT \n",
                "    ProductID,\n",
                "    Name,\n",
                "    ListPrice + 0.0 AS ListPriceWithDecimal\n",
                "FROM \n",
                "    SalesLT.Product;"
            ],
            "metadata": {
                "azdata_cell_guid": "80ed69f7-bdd0-4042-a4df-ee706581ed5d",
                "language": "sql"
            },
            "outputs": [],
            "execution_count": null
        },
        {
            "cell_type": "markdown",
            "source": [
                "The following queries illustrate various techniques for both explicit and implicit data conversion:  \n",
                "  \n",
                "The first query assigns the result to the ListPriceString column after explicitly converting the ListPrice column to an NVARCHAR data type using the CAST function.  \n",
                "  \n",
                "The second query uses the CONVERT function for explicit data conversion, yet it still yields the same result as the first.  \n",
                "  \n",
                "By adding 0.0 to the ListPrice column, the third query illustrates implicit data conversion during concatenation and forces the column to become a numeric data type with decimal places, yielding ListPriceWithDecimal."
            ],
            "metadata": {
                "language": "sql",
                "azdata_cell_guid": "0d7605a2-aa21-406b-916f-5a2ed9338dca"
            },
            "attachments": {}
        },
        {
            "cell_type": "markdown",
            "source": [
                "Ex 6: Incorrect filtering due to NULL."
            ],
            "metadata": {
                "language": "sql",
                "azdata_cell_guid": "0ac9b733-c3f1-4192-9e44-df773b7e0da4"
            },
            "attachments": {}
        },
        {
            "cell_type": "code",
            "source": [
                "SELECT \n",
                "    ProductID,\n",
                "    Name,\n",
                "    Size\n",
                "FROM \n",
                "    SalesLT.Product\n",
                "WHERE \n",
                "    Size IS NULL;"
            ],
            "metadata": {
                "azdata_cell_guid": "fce1f842-734c-4de6-b837-a80c3dcfc0e5",
                "language": "sql"
            },
            "outputs": [],
            "execution_count": null
        },
        {
            "cell_type": "markdown",
            "source": [
                "Product information, such as ProductID, Name, and Size, are retrieved from the SalesLT by this query. Filtering rows in the product table where the Size column is NULL."
            ],
            "metadata": {
                "language": "sql",
                "azdata_cell_guid": "c745c457-a67e-4bfa-9e4f-10cf726d3fcf"
            },
            "attachments": {}
        },
        {
            "cell_type": "markdown",
            "source": [
                "Ex 6: String concatenation."
            ],
            "metadata": {
                "language": "sql",
                "azdata_cell_guid": "4b136456-e71f-44a7-802a-3e4f438054ed"
            },
            "attachments": {}
        },
        {
            "cell_type": "code",
            "source": [
                "SELECT \n",
                "    ProductID,\n",
                "    Name,\n",
                "    'Product: ' + Name AS ConcatenatedName\n",
                "FROM \n",
                "    SalesLT.Product;"
            ],
            "metadata": {
                "azdata_cell_guid": "1cd88385-7eb3-4a22-bc03-6e4a14cf9938",
                "language": "sql"
            },
            "outputs": [],
            "execution_count": null
        },
        {
            "cell_type": "markdown",
            "source": [
                "In the preceding query, ProductID and Name are selected from the SalesLT.Product database, and concatenation is used to join the string 'Product:' with the product name to generate a new column called ConcatenatedName."
            ],
            "metadata": {
                "language": "sql",
                "azdata_cell_guid": "079d0292-a03e-4de0-8d92-94e1f1878014"
            },
            "attachments": {}
        },
        {
            "cell_type": "markdown",
            "source": [
                "Ex 6: Strings modification functions."
            ],
            "metadata": {
                "language": "sql",
                "azdata_cell_guid": "86353012-e33c-4fa4-a784-9b609b0ab47f"
            },
            "attachments": {}
        },
        {
            "cell_type": "code",
            "source": [
                "SELECT \n",
                "    ProductID,\n",
                "    UPPER(Name) AS UpperName\n",
                "FROM \n",
                "    SalesLT.Product;\n",
                "\n",
                "\n",
                "\n",
                "SELECT \n",
                "    ProductID,\n",
                "    LOWER(Name) AS LowerName\n",
                "FROM \n",
                "    SalesLT.Product;\n",
                "\n",
                "\n",
                "\n",
                "SELECT \n",
                "    ProductID,\n",
                "    Name,\n",
                "    LEN(Name) AS NameLength\n",
                "FROM \n",
                "    SalesLT.Product;\n",
                "\n",
                "\n",
                "\n",
                "SELECT \n",
                "    ProductID,\n",
                "    Name,\n",
                "    SUBSTRING(Name, 1, 3) AS ShortName\n",
                "FROM \n",
                "    SalesLT.Product;\n",
                "\n",
                "\n",
                "\n",
                "SELECT \n",
                "    ProductID,\n",
                "    Name,\n",
                "    REPLACE(Name, 'Bike', 'Cycle') AS ReplacedName\n",
                "FROM \n",
                "    SalesLT.Product;"
            ],
            "metadata": {
                "azdata_cell_guid": "d253b1fe-d831-4936-aea2-2adb0df11f5c",
                "language": "sql",
                "tags": []
            },
            "outputs": [],
            "execution_count": null
        },
        {
            "cell_type": "markdown",
            "source": [
                "The product names above are altered in a number of ways by these queries:\n",
                "\n",
                "In the first query, use the \"Upper\" function to convert product names to uppercase.\n",
                "\n",
                "The second query uses the \"Lower\" function to convert product names to lowercase.\n",
                "\n",
                "The third query uses the \"Len\" function to retrieve the length of product names.\n",
                "\n",
                "The fourth query uses the \"Substring\" function to extract the first three characters from product names.\n",
                "\n",
                "Fifth query, use the \"Replace\" function to swap out all instances of \"Bike\" with \"Cycle\" in product names."
            ],
            "metadata": {
                "language": "sql",
                "azdata_cell_guid": "58bf3597-c20a-46cd-bb1f-decda1d78eab"
            },
            "attachments": {}
        },
        {
            "cell_type": "markdown",
            "source": [
                "Ex 6: Using the Like operator with a character list, range of characters, and escape"
            ],
            "metadata": {
                "language": "sql",
                "azdata_cell_guid": "56dadd85-e876-44a8-815d-b54b7dc3e316"
            },
            "attachments": {}
        },
        {
            "cell_type": "code",
            "source": [
                "SELECT \n",
                "    ProductID,\n",
                "    Name\n",
                "FROM \n",
                "    SalesLT.Product\n",
                "WHERE \n",
                "    Name LIKE '[MN]%';\n",
                "\n",
                "\n",
                "SELECT \n",
                "    ProductID,\n",
                "    Name\n",
                "FROM \n",
                "    SalesLT.Product\n",
                "WHERE \n",
                "    Name LIKE '[A-C]%';\n",
                "\n",
                "\n",
                "SELECT \n",
                "    ProductID,\n",
                "    Name\n",
                "FROM \n",
                "    SalesLT.Product\n",
                "WHERE \n",
                "    Name LIKE '%\\_%' ESCAPE '\\';"
            ],
            "metadata": {
                "azdata_cell_guid": "8993b68a-2bd7-4655-90fe-9784ae3fbe93",
                "language": "sql"
            },
            "outputs": [],
            "execution_count": null
        },
        {
            "cell_type": "markdown",
            "source": [
                "These queries use pattern matching to filter products based on their names:\n",
                "\n",
                "  \n",
                "\n",
                "First query: uses the Like operator with the pattern '\\[MN\\]%' to find products whose names begin with 'M' or 'N'.\n",
                "\n",
                "Second query: uses Like operator with pattern '\\[A-C\\]%' to find products whose names begin with any letter between 'A' and 'C'.\n",
                "\n",
                "The third query uses the Like operator with the pattern '%\\_%' and an escape character '' to find products whose names contain the underscore character."
            ],
            "metadata": {
                "language": "sql",
                "azdata_cell_guid": "434a429e-db41-4794-91e6-3a26d77ff74a"
            },
            "attachments": {}
        },
        {
            "cell_type": "markdown",
            "source": [
                "Ex 6: filtering based on Datetime"
            ],
            "metadata": {
                "language": "sql",
                "azdata_cell_guid": "b7fcd8de-025d-4187-baa1-9897cabb5cbb"
            },
            "attachments": {}
        },
        {
            "cell_type": "code",
            "source": [
                "SELECT \n",
                "    SalesOrderID,\n",
                "    OrderDate\n",
                "FROM \n",
                "    SalesLT.SalesOrderHeader\n",
                "WHERE \n",
                "    OrderDate = '2023-01-01';\n",
                "\n",
                "\n",
                "\n",
                "SELECT \n",
                "    SalesOrderID,\n",
                "    OrderDate\n",
                "FROM \n",
                "    SalesLT.SalesOrderHeader\n",
                "WHERE \n",
                "    OrderDate < '2023-01-01';\n",
                "\n",
                "\n",
                "\n",
                "SELECT \n",
                "    SalesOrderID,\n",
                "    OrderDate\n",
                "FROM \n",
                "    SalesLT.SalesOrderHeader\n",
                "WHERE \n",
                "    YEAR(OrderDate) = 2023;\n",
                "\n",
                "-\n",
                "\n",
                "SELECT \n",
                "    SalesOrderID,\n",
                "    OrderDate\n",
                "FROM \n",
                "    SalesLT.SalesOrderHeader\n",
                "WHERE \n",
                "    MONTH(OrderDate) = 1; -- January"
            ],
            "metadata": {
                "azdata_cell_guid": "bc4a6329-d1cb-4a27-8709-53785dc48ed4",
                "language": "sql"
            },
            "outputs": [],
            "execution_count": null
        },
        {
            "cell_type": "markdown",
            "source": [
                "Based on their order date, the orders in the \\`SalesLT.SalesOrderHeader\\` table are filtered using the queries above:\n",
                "\n",
                "The first query looks for orders that have the order date 2023-01-01 in it.\n",
                "\n",
                "The second query looks up orders placed prior to a given date (2023-01-01).\n",
                "\n",
                "Using the \"Year\" function, the third query locates orders placed in the year 2023.\n",
                "\n",
                "Using the \"Month\" function, the fourth query locates orders placed in the month of January."
            ],
            "metadata": {
                "language": "sql",
                "azdata_cell_guid": "6b956f02-f6be-4cf0-ae2c-218e684a1062"
            },
            "attachments": {}
        },
        {
            "cell_type": "markdown",
            "source": [
                "Ex 6: Creating date using Getdate and DATETIMEFROMPARTS"
            ],
            "metadata": {
                "language": "sql",
                "azdata_cell_guid": "4a76c849-a7ba-481c-956d-1be926f9f1c5"
            },
            "attachments": {}
        },
        {
            "cell_type": "code",
            "source": [
                "SELECT \n",
                "    GETDATE() AS CurrentDateTime;\n",
                "SELECT \n",
                "    DATETIMEFROMPARTS(2023, 6, 1, 12, 0, 0, 0) AS SpecificDateTime;"
            ],
            "metadata": {
                "azdata_cell_guid": "4af6d553-3f26-4515-b7d0-8166edc50bdf",
                "language": "sql"
            },
            "outputs": [],
            "execution_count": null
        },
        {
            "cell_type": "markdown",
            "source": [
                "These queries change the time and date fields: <span style=\"color: var(--vscode-foreground); font-family: -apple-system, BlinkMacSystemFont, sans-serif;\">Using the Getdate() function, the first query retrieves the current date and time, which is aliased as CurrentDateTime.</span>\n",
                "\n",
                "also aliasing it as SpecificDateTime, generates a specific datetime value corresponding to June 1, 2023, at 12:00:00 PM using the DATETIMEFROMPARTS function."
            ],
            "metadata": {
                "language": "sql",
                "azdata_cell_guid": "891e0ec9-3ad0-4a4f-bdd9-b4222732255b"
            },
            "attachments": {}
        },
        {
            "cell_type": "markdown",
            "source": [
                "### **EXERCISE 7:**"
            ],
            "metadata": {
                "azdata_cell_guid": "f62b1654-a4ed-4df8-8a6b-02b19e08186d"
            },
            "attachments": {}
        },
        {
            "cell_type": "markdown",
            "source": [
                "Ex 7: Checking if sourceTab exists"
            ],
            "metadata": {
                "language": "sql",
                "azdata_cell_guid": "21b2f04e-be49-4471-aac3-c880db51287e"
            },
            "attachments": {}
        },
        {
            "cell_type": "code",
            "source": [
                "SELECT *\n",
                "FROM INFORMATION_SCHEMA.TABLES\n",
                "WHERE TABLE_NAME = 'Product' AND TABLE_SCHEMA = 'SalesLT';"
            ],
            "metadata": {
                "azdata_cell_guid": "710e1a99-a43a-4488-8983-13ff93d52c07",
                "language": "sql"
            },
            "outputs": [],
            "execution_count": null
        },
        {
            "cell_type": "markdown",
            "source": [
                "This query determines whether a table with the name \"Product\" exists in the \"SalesLT\" schema. For the corresponding table, all columns are returned."
            ],
            "metadata": {
                "language": "sql",
                "azdata_cell_guid": "1921598e-c9f6-4b53-80ef-ab3ab78e8a73"
            },
            "attachments": {}
        },
        {
            "cell_type": "markdown",
            "source": [
                "Ex 7: Drope and Create a Copy of SalesLT.Product as Tab1"
            ],
            "metadata": {
                "language": "sql",
                "azdata_cell_guid": "4db2423b-3d2f-48ae-b9a3-c1371896e478"
            },
            "attachments": {}
        },
        {
            "cell_type": "code",
            "source": [
                "DROP TABLE IF EXISTS Tab1;\n",
                "SELECT *\n",
                "INTO Tab1\n",
                "FROM SalesLT.Product;"
            ],
            "metadata": {
                "azdata_cell_guid": "c9bbd748-6c78-4e54-a496-97e155e39e99",
                "language": "sql"
            },
            "outputs": [],
            "execution_count": null
        },
        {
            "cell_type": "markdown",
            "source": [
                "These queries control the creation and existence of tables:\n",
                "\n",
                "Using \\`DROP TABLE IF EXISTS\\`, the first query deletes the Tab1 table if it is present then uses \\`SELECT \\* INTO to create a replica of the SalesLT.Product table called Tab1."
            ],
            "metadata": {
                "language": "sql",
                "azdata_cell_guid": "2fbffd47-c01a-45de-abee-af0ecb077964"
            },
            "attachments": {}
        },
        {
            "cell_type": "markdown",
            "source": [
                "Ex 7: Deleting data from Tab1"
            ],
            "metadata": {
                "language": "sql",
                "azdata_cell_guid": "6519380c-b23e-4ba6-b61d-5c2b0a6952f7"
            },
            "attachments": {}
        },
        {
            "cell_type": "code",
            "source": [
                "DELETE FROM Tab1\n",
                "WHERE ListPrice < 100;\n",
                "TRUNCATE TABLE Tab1;"
            ],
            "metadata": {
                "azdata_cell_guid": "2de68830-151f-43f4-b449-84570d46df52",
                "language": "sql"
            },
            "outputs": [],
            "execution_count": null
        },
        {
            "cell_type": "markdown",
            "source": [
                "The following queries control the information in the Tab1 table, <span style=\"font-family: -apple-system, BlinkMacSystemFont, sans-serif; color: var(--vscode-foreground);\">&nbsp;records from Tab1 where `ListPrice` is less than 100 are deleted&nbsp;</span> <span style=\"font-family: -apple-system, BlinkMacSystemFont, sans-serif; color: var(--vscode-foreground);\">preserving the table structure but eliminating every entry and returning the table to its initial condition.</span>"
            ],
            "metadata": {
                "language": "sql",
                "azdata_cell_guid": "72c8991a-6f1c-4157-828f-7bb0dc273b46"
            },
            "attachments": {}
        },
        {
            "cell_type": "markdown",
            "source": [
                "Ex 7: Copying products into Tab1"
            ],
            "metadata": {
                "language": "sql",
                "azdata_cell_guid": "c2828370-2ca4-4f62-a9c7-3aaf05457427"
            },
            "attachments": {}
        },
        {
            "cell_type": "code",
            "source": [
                "INSERT INTO Tab1 (Name, ProductNumber, Color, StandardCost, ListPrice, Size, Weight, ProductCategoryID, ProductModelID, SellStartDate, SellEndDate, DiscontinuedDate, ThumbNailPhoto, ThumbnailPhotoFileName, rowguid, ModifiedDate)\n",
                "SELECT Name, ProductNumber, Color, StandardCost, ListPrice, Size, Weight, ProductCategoryID, ProductModelID, SellStartDate, SellEndDate, DiscontinuedDate, ThumbNailPhoto, ThumbnailPhotoFileName, rowguid, ModifiedDate\n",
                "FROM SalesLT.Product\n",
                "WHERE ListPrice >= 100;"
            ],
            "metadata": {
                "azdata_cell_guid": "7e2ea74f-1943-44ea-bc60-2e7bc6e7be22",
                "language": "sql"
            },
            "outputs": [],
            "execution_count": null
        },
        {
            "cell_type": "markdown",
            "source": [
                "This query copies all of the product columns from the SalesLT and inserts them into the Tab1 table.ListPrice in the product table is more than or equal to 100. By doing this, it is guaranteed that Tab1 will only include products that fit the given price range."
            ],
            "metadata": {
                "language": "sql",
                "azdata_cell_guid": "0e9adff7-7cca-48f4-a83c-884b43a4edc0"
            },
            "attachments": {}
        },
        {
            "cell_type": "markdown",
            "source": [
                "Ex 7: filtering Data in Tab2"
            ],
            "metadata": {
                "language": "sql",
                "azdata_cell_guid": "4ee6e094-c245-4432-a3e4-14bcfed20c06"
            },
            "attachments": {}
        },
        {
            "cell_type": "code",
            "source": [
                "DROP TABLE IF EXISTS Tab2;\n",
                "SELECT *\n",
                "INTO Tab2\n",
                "FROM SalesLT.Product;\n",
                "DELETE FROM Tab2\n",
                "WHERE ListPrice < 50;"
            ],
            "metadata": {
                "azdata_cell_guid": "5da90cfd-5933-4495-8718-d96854f53b4f",
                "language": "sql"
            },
            "outputs": [],
            "execution_count": null
        },
        {
            "cell_type": "markdown",
            "source": [
                "The Tab2 table's data management and filtering are taken care of by ths quey. <span style=\"font-family: -apple-system, BlinkMacSystemFont, sans-serif; color: var(--vscode-foreground);\">In order to make sure there are no inconsistencies with the current data, the Tab2 table is first removed, if it is there. Next, all of the data and structure from the SalesLT. Lastly, lower-priced products are filtered out of Tab 2 by deleting rows with a ListPrice of less than 50.</span>"
            ],
            "metadata": {
                "language": "sql",
                "azdata_cell_guid": "4a321160-89ef-4c0e-8b5d-a97273bdc583"
            },
            "attachments": {}
        },
        {
            "cell_type": "markdown",
            "source": [
                "Ex 7: Syning and updating Tab2 with data from SalesLT.Product"
            ],
            "metadata": {
                "language": "sql",
                "azdata_cell_guid": "661c7c05-21b0-4949-993d-f7b4c7993bc7"
            },
            "attachments": {}
        },
        {
            "cell_type": "code",
            "source": [
                "SET IDENTITY_INSERT Tab2 ON;\n",
                "MERGE Tab2 AS target\n",
                "USING (SELECT * FROM SalesLT.Product WHERE ProductID NOT IN (SELECT ProductID FROM Tab1)) AS source\n",
                "ON (target.ProductID = source.ProductID)\n",
                "WHEN MATCHED THEN\n",
                "    UPDATE SET\n",
                "        target.Name = source.Name,\n",
                "        target.ProductNumber = source.ProductNumber,\n",
                "        target.Color = source.Color,\n",
                "        target.StandardCost = source.StandardCost,\n",
                "        target.ListPrice = source.ListPrice,\n",
                "        target.Size = source.Size,\n",
                "        target.Weight = source.Weight,\n",
                "        target.ProductCategoryID = source.ProductCategoryID,\n",
                "        target.ProductModelID = source.ProductModelID,\n",
                "        target.SellStartDate = source.SellStartDate,\n",
                "        target.SellEndDate = source.SellEndDate,\n",
                "        target.DiscontinuedDate = source.DiscontinuedDate,\n",
                "        target.ThumbNailPhoto = source.ThumbNailPhoto,\n",
                "        target.ThumbnailPhotoFileName = source.ThumbnailPhotoFileName,\n",
                "        target.rowguid = source.rowguid,\n",
                "        target.ModifiedDate = source.ModifiedDate\n",
                "WHEN NOT MATCHED THEN\n",
                "    INSERT (ProductID, Name, ProductNumber, Color, StandardCost, ListPrice, Size, Weight, ProductCategoryID, ProductModelID, SellStartDate, SellEndDate, DiscontinuedDate, ThumbNailPhoto, ThumbnailPhotoFileName, rowguid, ModifiedDate)\n",
                "    VALUES (source.ProductID, source.Name, source.ProductNumber, source.Color, source.StandardCost, source.ListPrice, source.Size, source.Weight, source.ProductCategoryID, source.ProductModelID, source.SellStartDate, source.SellEndDate, source.DiscontinuedDate, source.ThumbNailPhoto, source.ThumbnailPhotoFileName, source.rowguid, source.ModifiedDate);\n",
                "SET IDENTITY_INSERT Tab2 OFF;"
            ],
            "metadata": {
                "azdata_cell_guid": "a6452a16-6076-476e-a7d9-a4d20817d73d",
                "language": "sql"
            },
            "outputs": [],
            "execution_count": null
        },
        {
            "cell_type": "markdown",
            "source": [
                "These queries ensure that Tab2 has all required products that are not already in Tab1 by syncing and updating Tab2 with data from the SalesLT.Product table.\n",
                "\n",
                "<span style=\"font-family: -apple-system, BlinkMacSystemFont, sans-serif; color: var(--vscode-foreground);\">First, enabling IDENTITY_INSERT for Tab2. This enables values to be explicitly inserted into Tab2's ProductID identification field.</span>\n",
                "\n",
                "Second Merging Data into Tab2: Updates Tab2 with SalesLT data using the MERGE command.Product for which Tab1's ProductID is null. Non-matching rows are added to Tab2 and existing matching rows are modified.\n",
                "\n",
                "Third Disabling IDENTITY\\_INSERT for Tab2: This option restores the ProductID identity column to its default state by disabling explicit insertion into it."
            ],
            "metadata": {
                "language": "sql",
                "azdata_cell_guid": "e24bc80f-8e05-434b-86f1-4108d1f57170"
            },
            "attachments": {}
        },
        {
            "cell_type": "markdown",
            "source": [
                "### **EXERCISE 8:**"
            ],
            "metadata": {
                "azdata_cell_guid": "445e82a6-ac62-456d-ba51-00bc60de54f9"
            },
            "attachments": {}
        },
        {
            "cell_type": "markdown",
            "source": [
                "Ex 8: changing Data types with Cast, Convert, and Parse"
            ],
            "metadata": {
                "language": "sql",
                "azdata_cell_guid": "3128053e-ddd7-4b7f-840d-85b17fcdc1c1"
            },
            "attachments": {}
        },
        {
            "cell_type": "code",
            "source": [
                "SELECT \n",
                "    ProductID,\n",
                "    Name,\n",
                "    CAST(ListPrice AS NVARCHAR(50)) AS ListPrice_Cast,\n",
                "    CONVERT(NVARCHAR(50), ListPrice) AS ListPrice_Convert,\n",
                "    PARSE(CAST(ListPrice AS NVARCHAR(50)) AS FLOAT) AS ListPrice_Parse\n",
                "FROM \n",
                "    SalesLT.Product;"
            ],
            "metadata": {
                "azdata_cell_guid": "b47aa0ca-3ab0-451f-836d-ab2ff824d3e2",
                "language": "sql"
            },
            "outputs": [],
            "execution_count": null
        },
        {
            "cell_type": "markdown",
            "source": [
                "The query shows how to modify the data type of the ListPrice column in the SalesLT by using the \"Cast\", CONVERT, and \"Parse\" functions.Table of products:\n",
                "\n",
                "\\- Cast Function: Renames ListPrice as ListPrice\\_Cast and converts it to an NVARCHAR(50) data type.\n",
                "\n",
                "\\- Convert Function: This function renames ListPrice as ListPrice\\_Convert after converting it to an NVARCHAR(50) data type.\n",
                "\n",
                "\\- Parse Function: ListPrice is first converted to NVARCHAR(50) using Cast, and then it is parsed using the Parse function back into a Float data type, renaming it as ListPrice\\_Parse."
            ],
            "metadata": {
                "language": "sql",
                "azdata_cell_guid": "a12e2a33-fdbc-4e3a-8a00-42a9ca705c2a"
            },
            "attachments": {}
        },
        {
            "cell_type": "markdown",
            "source": [
                "Ex 8: Error when conversion string to integer"
            ],
            "metadata": {
                "language": "sql",
                "azdata_cell_guid": "750e3246-89fc-456d-9b66-53b0453ac4a1"
            },
            "attachments": {}
        },
        {
            "cell_type": "code",
            "source": [
                "SELECT \n",
                "    ProductID,\n",
                "    Name,\n",
                "    CONVERT(INT, Name) AS Name_As_Int\n",
                "FROM \n",
                "    SalesLT.Product;"
            ],
            "metadata": {
                "azdata_cell_guid": "e84bea20-3ca2-4424-810e-441d90ed88dd",
                "language": "sql"
            },
            "outputs": [],
            "execution_count": null
        },
        {
            "cell_type": "markdown",
            "source": [
                "This query uses the \"Covert\" function to try and convert the Name column from the SalesLT.Product table to an INT data type. However, this conversion will result in an error because it is impossible to convert a string to an integer because the Name most certainly contains string values."
            ],
            "metadata": {
                "language": "sql",
                "azdata_cell_guid": "67702374-2648-42c8-a7e2-3af9847c6ca0"
            },
            "attachments": {}
        },
        {
            "cell_type": "markdown",
            "source": [
                "Ex 8: Converting Data Types using Try convert"
            ],
            "metadata": {
                "language": "sql",
                "azdata_cell_guid": "9d5385dc-d20d-492b-84e5-85612b15d4f6"
            },
            "attachments": {}
        },
        {
            "cell_type": "code",
            "source": [
                "SELECT \n",
                "    ProductID,\n",
                "    Name,\n",
                "    TRY_CONVERT(INT, Name) AS Name_As_Int\n",
                "FROM \n",
                "    SalesLT.Product;"
            ],
            "metadata": {
                "azdata_cell_guid": "554b13e3-ef44-4805-bc18-2954e3aad0b3",
                "language": "sql"
            },
            "outputs": [],
            "execution_count": null
        },
        {
            "cell_type": "markdown",
            "source": [
                "The preceding query makes a safe effort to convert the SalesLT.Product table's Name column to an INT data type by using the TRY\\_CONVERT function. TRY\\_CONVERT will not raise an error in the event of a conversion error; instead, it will return NULL, enabling the query to continue running uninterrupted."
            ],
            "metadata": {
                "language": "sql",
                "azdata_cell_guid": "1b4ef2bf-13dd-4dbf-a12f-a13e5c4352ab"
            },
            "attachments": {}
        },
        {
            "cell_type": "markdown",
            "source": [
                "Ex 8: Managing Null Values"
            ],
            "metadata": {
                "language": "sql",
                "azdata_cell_guid": "2b669ec6-efcb-456b-916c-7c8c236452b1"
            },
            "attachments": {}
        },
        {
            "cell_type": "code",
            "source": [
                "SELECT \n",
                "    ProductID,\n",
                "    Name,\n",
                "    Size,\n",
                "    ISNULL(Size, 'No Size') AS Size_ISNULL,\n",
                "    COALESCE(Size, 'No Size') AS Size_COALESCE\n",
                "FROM \n",
                "    SalesLT.Product;"
            ],
            "metadata": {
                "azdata_cell_guid": "fe873610-6dcf-4707-bc0e-a7c17ce8fc10",
                "language": "sql"
            },
            "outputs": [],
            "execution_count": null
        },
        {
            "cell_type": "markdown",
            "source": [
                "Here is How to deal with NULL values in the Size column from the SalesLT. Product table with COALESCE and ISNULL functions used:\n",
                "\n",
                "'No Size' is substituted for NULL values in the Size field by the ISNULL function. <span style=\"font-family: -apple-system, BlinkMacSystemFont, sans-serif; color: var(--vscode-foreground);\">The COALESCE function offers an alternate method of handling NULL values by substituting 'No Size' for them. Although it can support several expressions and return the first non-null value, it functions similarly to ISNULL.</span>"
            ],
            "metadata": {
                "language": "sql",
                "azdata_cell_guid": "24350c3c-6991-4acf-80ff-27880d267853"
            },
            "attachments": {}
        },
        {
            "cell_type": "markdown",
            "source": [
                "Ex 8: Conditional Column with IIF."
            ],
            "metadata": {
                "language": "sql",
                "azdata_cell_guid": "f9649a1f-3b87-41ea-b4b4-453de00d282d"
            },
            "attachments": {}
        },
        {
            "cell_type": "code",
            "source": [
                "\n",
                "SELECT \n",
                "    ProductID,\n",
                "    Name,\n",
                "    ListPrice,\n",
                "    IIF(ListPrice > 100, 'Expensive', 'Cheap') AS PriceCategory\n",
                "FROM \n",
                "    SalesLT.Product;"
            ],
            "metadata": {
                "azdata_cell_guid": "684c306f-2324-4b8a-9be2-ce5ea4769c08",
                "language": "sql"
            },
            "outputs": [],
            "execution_count": null
        },
        {
            "cell_type": "markdown",
            "source": [
                "Using the ListPrice data from the SalesLT.Product table as a basis, this query creates a conditional column named PriceCategory using the IIF function. The category is classified as 'Expensive' if the ListPrice is greater than 100, and as 'Cheap' otherwise."
            ],
            "metadata": {
                "language": "sql",
                "azdata_cell_guid": "784a4823-ffcc-4328-8168-9af684b6c029"
            },
            "attachments": {}
        }
    ]
}