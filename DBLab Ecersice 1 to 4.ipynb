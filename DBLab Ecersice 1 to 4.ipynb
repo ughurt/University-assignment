{
    "metadata": {
        "kernelspec": {
            "name": "SQL",
            "display_name": "SQL",
            "language": "sql"
        },
        "language_info": {
            "name": "sql",
            "version": ""
        }
    },
    "nbformat_minor": 2,
    "nbformat": 4,
    "cells": [
        {
            "cell_type": "markdown",
            "source": [
                "### **EXERCISE 1**"
            ],
            "metadata": {
                "azdata_cell_guid": "7e81ea8d-a3f8-4894-9cae-dc6ab341cf19"
            },
            "attachments": {}
        },
        {
            "cell_type": "markdown",
            "source": [
                "Ex 1: WHERE"
            ],
            "metadata": {
                "azdata_cell_guid": "3ea3bdd0-39be-4a76-9501-b1797ea4030d"
            },
            "attachments": {}
        },
        {
            "cell_type": "code",
            "source": [
                "SELECT Name, ListPrice\n",
                "FROM SalesLT.Product\n",
                "WHERE ListPrice > 100;\n",
                "\n",
                "SELECT Name, ListPrice\n",
                "FROM SalesLT.Product\n",
                "WHERE ListPrice <= 50;\n",
                ""
            ],
            "metadata": {
                "azdata_cell_guid": "dd4c7e36-3276-41e1-bdfb-59657889c41d",
                "language": "sql"
            },
            "outputs": [],
            "execution_count": null
        },
        {
            "cell_type": "markdown",
            "source": [
                "The product names and list prices are retrieved from the SalesLT using the aforementioned query. Product table where the price list is larger than 100 or less than or equal to 50; the results are filtered according to the price criterion by using comparison operators."
            ],
            "metadata": {
                "language": "sql",
                "azdata_cell_guid": "b97f8403-03bb-442e-8cc8-613df47d4966"
            },
            "attachments": {}
        },
        {
            "cell_type": "markdown",
            "source": [
                "Ex 1:  <span style=\"color:rgb(0, 0, 0);font-family:&quot;Helvetica Neue&quot;;font-size:13px;\">&nbsp;Logical Operators</span>"
            ],
            "metadata": {
                "azdata_cell_guid": "605f9f88-d0c7-4fac-90ee-e7bef5e2c729"
            },
            "attachments": {}
        },
        {
            "cell_type": "code",
            "source": [
                "SELECT Name, ListPrice, Weight\n",
                "FROM SalesLT.Product\n",
                "WHERE ListPrice > 100 AND Weight > 10;\n",
                "\n",
                "SELECT Name, ListPrice, Weight\n",
                "FROM SalesLT.Product\n",
                "WHERE ListPrice < 50 OR Weight > 200;\n",
                ""
            ],
            "metadata": {
                "azdata_cell_guid": "ea02f977-214b-4e12-a6eb-66283cc92ae7",
                "language": "sql"
            },
            "outputs": [],
            "execution_count": null
        },
        {
            "cell_type": "markdown",
            "source": [
                "Products are obtained from the SalesLT.Product database with the queries. Products having a list price of more than 100 and a weight greater than 10 are chosen by the first query. Products having a list price of less than 50 or a weight of more than 200 are chosen by the second query"
            ],
            "metadata": {
                "language": "sql",
                "azdata_cell_guid": "6a636c67-99a8-4c29-9d0e-ef843a4523b6"
            },
            "attachments": {}
        },
        {
            "cell_type": "markdown",
            "source": [
                "Ex 1:  Like, In, Between"
            ],
            "metadata": {
                "azdata_cell_guid": "1db36014-0ad0-4882-8847-bd7cc511a8f1"
            },
            "attachments": {}
        },
        {
            "cell_type": "code",
            "source": [
                "SELECT Name, ProductCategoryID\n",
                "FROM SalesLT.Product\n",
                "WHERE ProductCategoryID IN (1, 2, 3);\n",
                "\n",
                "SELECT Name, ListPrice\n",
                "FROM SalesLT.Product\n",
                "WHERE ListPrice BETWEEN 50 AND 150;\n",
                "\n",
                "SELECT Name\n",
                "FROM SalesLT.Product\n",
                "WHERE Name LIKE 'A%';\n",
                ""
            ],
            "metadata": {
                "azdata_cell_guid": "fe3de1ae-23d9-4a38-90b4-5cf4ad92519e",
                "language": "sql"
            },
            "outputs": [],
            "execution_count": null
        },
        {
            "cell_type": "markdown",
            "source": [
                "Using various parameters, the aforementioned queries obtain products from the SalesLT.Product table. <span style=\"color: var(--vscode-foreground); font-family: -apple-system, BlinkMacSystemFont, sans-serif;\">The products with category IDs of 1, 2, or 3 are chosen by the first query. Products having a list price between 50 and 150 are chosen by the second query. The third query chooses goods whose names begin with the letter \"A.\"</span>"
            ],
            "metadata": {
                "language": "sql",
                "azdata_cell_guid": "3590d52e-37fc-47a7-8531-5d3bbd88be67"
            },
            "attachments": {}
        },
        {
            "cell_type": "markdown",
            "source": [
                "### **EXERCISE 2:**"
            ],
            "metadata": {
                "language": "sql",
                "azdata_cell_guid": "47d8802f-c88e-410c-b8b7-00c919560d5a"
            },
            "attachments": {}
        },
        {
            "cell_type": "markdown",
            "source": [
                "Ex 2:  Calculation of Transaction Value"
            ],
            "metadata": {
                "language": "sql",
                "azdata_cell_guid": "d52b1c43-3e66-4fa8-a968-db42a579bc69"
            },
            "attachments": {}
        },
        {
            "cell_type": "code",
            "source": [
                "SELECT \n",
                "    SalesOrderID,\n",
                "    ProductID,\n",
                "    OrderQty,\n",
                "    UnitPrice,\n",
                "    (OrderQty * UnitPrice) AS TransactionValue\n",
                "FROM \n",
                "    SalesLT.SalesOrderDetail;"
            ],
            "metadata": {
                "azdata_cell_guid": "0022b13f-97fd-4e56-9d8e-376ba06ef986",
                "language": "sql"
            },
            "outputs": [],
            "execution_count": null
        },
        {
            "cell_type": "markdown",
            "source": [
                "This query multiplies OrderQty by UnitPrice to get the transaction amount after retrieving sales order information from the SalesLT.SalesOrderDetail table."
            ],
            "metadata": {
                "language": "sql",
                "azdata_cell_guid": "98695d9b-4170-46c9-bd05-075f0cc4806a"
            },
            "attachments": {}
        },
        {
            "cell_type": "markdown",
            "source": [
                "Ex 2: retrieving month & year."
            ],
            "metadata": {
                "language": "sql",
                "azdata_cell_guid": "f7d9910b-0f5a-4fc8-b5d1-f0d90b085ec5"
            },
            "attachments": {}
        },
        {
            "cell_type": "code",
            "source": [
                "SELECT \n",
                "    SalesOrderID,\n",
                "    OrderDate,\n",
                "    DATENAME(MONTH, OrderDate) + '_' + DATENAME(YEAR, OrderDate) AS Month_Year\n",
                "FROM \n",
                "    SalesLT.SalesOrderHeader;"
            ],
            "metadata": {
                "azdata_cell_guid": "d85e5502-bf54-40fe-8208-eba52b8a56df",
                "language": "sql"
            },
            "outputs": [],
            "execution_count": null
        },
        {
            "cell_type": "markdown",
            "source": [
                "This query retrieves and formats the month and year from the OrderDate into a Month\\_Year format before retrieving sales orders from the SalesLT.SalesOrderHeader table."
            ],
            "metadata": {
                "language": "sql",
                "azdata_cell_guid": "9453bc45-5a25-4a3e-8e46-d54545777954"
            },
            "attachments": {}
        },
        {
            "cell_type": "markdown",
            "source": [
                "Ex 2:  no duplicates"
            ],
            "metadata": {
                "language": "sql",
                "azdata_cell_guid": "46dd9dac-6c17-4c24-8ee0-ed010a11f8c0"
            },
            "attachments": {}
        },
        {
            "cell_type": "code",
            "source": [
                "SELECT DISTINCT\n",
                "    CustomerID,\n",
                "    FirstName,\n",
                "    LastName\n",
                "FROM \n",
                "    SalesLT.Customer;"
            ],
            "metadata": {
                "azdata_cell_guid": "91cde466-e8ac-4f7e-9e26-779ced6a6e70",
                "language": "sql"
            },
            "outputs": [],
            "execution_count": null
        },
        {
            "cell_type": "markdown",
            "source": [
                "This query ensures that no duplicate entries appear in the result by retrieving unique customer IDs, first names, and last names from the SalesLT.Customer table"
            ],
            "metadata": {
                "language": "sql",
                "azdata_cell_guid": "b1324527-7737-4575-a3f2-5034e12a05e5"
            },
            "attachments": {}
        },
        {
            "cell_type": "markdown",
            "source": [
                "Ex2:  column and table aliases."
            ],
            "metadata": {
                "language": "sql",
                "azdata_cell_guid": "f94642ec-b9b4-4c08-9eee-b94851335f8d"
            },
            "attachments": {}
        },
        {
            "cell_type": "code",
            "source": [
                "SELECT \n",
                "    soh.SalesOrderID AS OrderID,\n",
                "    soh.OrderDate AS Date,\n",
                "    sod.ProductID AS ProdID,\n",
                "    sod.OrderQty AS Quantity,\n",
                "    sod.UnitPrice AS Price,\n",
                "    (sod.OrderQty * sod.UnitPrice) AS TransactionValue\n",
                "FROM \n",
                "    SalesLT.SalesOrderHeader AS soh\n",
                "JOIN \n",
                "    SalesLT.SalesOrderDetail AS sod\n",
                "ON \n",
                "    soh.SalesOrderID = sod.SalesOrderID;"
            ],
            "metadata": {
                "azdata_cell_guid": "f39cbbf5-a711-4ccb-94a2-9a964bc4217c",
                "language": "sql"
            },
            "outputs": [],
            "execution_count": null
        },
        {
            "cell_type": "markdown",
            "source": [
                "aliases for columns and tables are used in the query above to extract sales order data. Selecting and renaming many columns, as well as computing the transaction value, it joins SalesLT.SalesOrderHeader (aliased as soh) and SalesLT.SalesOrderDetail (aliased as sod)."
            ],
            "metadata": {
                "language": "sql",
                "azdata_cell_guid": "738e8acb-f763-4181-9c3d-b5fb60c89bb7"
            },
            "attachments": {}
        },
        {
            "cell_type": "markdown",
            "source": [
                "### **EXERCISE 3**"
            ],
            "metadata": {
                "language": "sql",
                "azdata_cell_guid": "12d57d39-1bae-461d-aec1-86523b9b9574"
            },
            "attachments": {}
        },
        {
            "cell_type": "markdown",
            "source": [
                "Ex 3: Case in Select statment"
            ],
            "metadata": {
                "language": "sql",
                "azdata_cell_guid": "0bd69cd4-2718-4308-94bc-f19deefccb58"
            },
            "attachments": {}
        },
        {
            "cell_type": "code",
            "source": [
                "SELECT \n",
                "    SalesOrderID,\n",
                "    OrderQty,\n",
                "    UnitPrice,\n",
                "    CASE ProductID\n",
                "        WHEN 707 THEN 'High Priority'\n",
                "        WHEN 708 THEN 'Medium Priority'\n",
                "        ELSE 'Low Priority'\n",
                "    END AS Priority\n",
                "FROM \n",
                "    SalesLT.SalesOrderDetail;"
            ],
            "metadata": {
                "azdata_cell_guid": "ce961cfa-adb7-4987-9457-85453adada53",
                "language": "sql"
            },
            "outputs": [],
            "execution_count": null
        },
        {
            "cell_type": "markdown",
            "source": [
                "<span style=\"color: var(--vscode-foreground); font-family: -apple-system, BlinkMacSystemFont, sans-serif;\">This query uses a straightforward Case expression in the Select statement to assign a priority label depending on the ProductID after retrieving sales order details from the SalesLT.SalesOrderDetail table.</span>"
            ],
            "metadata": {
                "language": "sql",
                "azdata_cell_guid": "42208dd7-105e-4860-8c74-bd821da5be87"
            },
            "attachments": {}
        },
        {
            "cell_type": "markdown",
            "source": [
                "Ex 3: Case search using Select statement"
            ],
            "metadata": {
                "language": "sql",
                "azdata_cell_guid": "7af4dc9c-c25f-4d17-82f0-2e814c2fbbfe"
            },
            "attachments": {}
        },
        {
            "cell_type": "code",
            "source": [
                "SELECT \n",
                "    SalesOrderID,\n",
                "    OrderQty,\n",
                "    UnitPrice,\n",
                "    CASE \n",
                "        WHEN UnitPrice > 100 THEN 'Expensive'\n",
                "        WHEN UnitPrice BETWEEN 50 AND 100 THEN 'Moderate'\n",
                "        ELSE 'Cheap'\n",
                "    END AS PriceCategory\n",
                "FROM \n",
                "    SalesLT.SalesOrderDetail;"
            ],
            "metadata": {
                "azdata_cell_guid": "9731eaec-4d08-4cf5-8d0b-89a4e52e7622",
                "language": "sql"
            },
            "outputs": [],
            "execution_count": null
        },
        {
            "cell_type": "markdown",
            "source": [
                "<span style=\"font-family: -apple-system, BlinkMacSystemFont, sans-serif; color: var(--vscode-foreground);\">This query uses a searching CASE expression in the SELECT clause to get sales order details from the SalesLT.SalesOrderDetail table and classify the unit price into several pricing categories.</span>"
            ],
            "metadata": {
                "language": "sql",
                "azdata_cell_guid": "9d2026a5-2aa6-4d44-8e57-be335162b022"
            },
            "attachments": {}
        },
        {
            "cell_type": "markdown",
            "source": [
                "Ex 3: case in where statement"
            ],
            "metadata": {
                "language": "sql",
                "azdata_cell_guid": "7e56d95a-9660-4b12-b6cc-b784e74677d2"
            },
            "attachments": {}
        },
        {
            "cell_type": "code",
            "source": [
                "SELECT \n",
                "    SalesOrderID,\n",
                "    OrderQty,\n",
                "    UnitPrice\n",
                "FROM \n",
                "    SalesLT.SalesOrderDetail\n",
                "WHERE \n",
                "    CASE \n",
                "        WHEN UnitPrice > 100 THEN 1\n",
                "        WHEN OrderQty > 10 THEN 1\n",
                "        ELSE 0\n",
                "    END = 1;"
            ],
            "metadata": {
                "azdata_cell_guid": "9bd5f508-84bb-4927-93e1-1b461c27ede2",
                "language": "sql"
            },
            "outputs": [],
            "execution_count": null
        },
        {
            "cell_type": "markdown",
            "source": [
                "<span style=\"color: var(--vscode-foreground); font-family: -apple-system, BlinkMacSystemFont, sans-serif;\">The sales order information is retrieved from the SalesLT using the query above.Using a Case statement in the Where clause, find the SalesOrderDetail table where either the unit price is larger than 100 or the order quantity is greater than 10.</span>"
            ],
            "metadata": {
                "language": "sql",
                "azdata_cell_guid": "a31fed16-d6e9-4f62-80e4-b709da2e22ac"
            },
            "attachments": {}
        },
        {
            "cell_type": "markdown",
            "source": [
                "### **EXERCISE 4**"
            ],
            "metadata": {
                "language": "sql",
                "azdata_cell_guid": "10c2ef12-65ba-423d-a5dd-a25bad93599b"
            },
            "attachments": {}
        },
        {
            "cell_type": "markdown",
            "source": [
                "Ex 4: join SalesOrderDetail and Product with inner-join."
            ],
            "metadata": {
                "language": "sql",
                "azdata_cell_guid": "8962e74e-0585-42f1-8122-4ee5b4463989"
            },
            "attachments": {}
        },
        {
            "cell_type": "code",
            "source": [
                "SELECT \n",
                "    sod.SalesOrderID,\n",
                "    sod.ProductID,\n",
                "    sp.Name,\n",
                "    sod.OrderQty\n",
                "FROM \n",
                "    SalesLT.SalesOrderDetail AS sod\n",
                "INNER JOIN \n",
                "    SalesLT.Product AS sp\n",
                "ON \n",
                "    sod.ProductID = sp.ProductID;"
            ],
            "metadata": {
                "azdata_cell_guid": "a472b01b-4524-4ea3-a2d8-83b907c3aed1",
                "language": "sql"
            },
            "outputs": [],
            "execution_count": null
        },
        {
            "cell_type": "markdown",
            "source": [
                "The SalesLT.SalesOrderDetail table (aliased as sod) and the SalesLT.Product tables (aliased as sp) are joined internally by this query, which guarantees that the result set contains only entries from both tables that have matching ProductIDs."
            ],
            "metadata": {
                "language": "sql",
                "azdata_cell_guid": "41f0b84b-f501-4c16-84e4-dbd56bc1cdc8"
            },
            "attachments": {}
        },
        {
            "cell_type": "markdown",
            "source": [
                "Ex 4: Join SalesOrderDetail and Product with left-join"
            ],
            "metadata": {
                "language": "sql",
                "azdata_cell_guid": "eb271d95-82d0-4365-a2a9-1e21a8bbc7bf"
            },
            "attachments": {}
        },
        {
            "cell_type": "code",
            "source": [
                "SELECT \n",
                "    sod.SalesOrderID,\n",
                "    sod.ProductID,\n",
                "    sp.Name,\n",
                "    sod.OrderQty\n",
                "FROM \n",
                "    SalesLT.SalesOrderDetail AS sod\n",
                "LEFT JOIN \n",
                "    SalesLT.Product AS sp\n",
                "ON \n",
                "    sod.ProductID = sp.ProductID;"
            ],
            "metadata": {
                "azdata_cell_guid": "445f2845-b00c-4950-862c-9e6219e31ce1",
                "language": "sql"
            },
            "outputs": [],
            "execution_count": null
        },
        {
            "cell_type": "markdown",
            "source": [
                "The SalesLT.SalesOrderDetail table (aliased as sod) and the SalesLT.Product table (aliased as sp) are joined on the left in the following query, guaranteeing that all rows from the left table (sod) and any matching rows from the right table (sp) based on ProductID are included in the result set. Columns from the appropriate table are allocated null values if there is no match."
            ],
            "metadata": {
                "language": "sql",
                "azdata_cell_guid": "95b31d11-7c5c-4803-8417-e71d356ba360"
            },
            "attachments": {}
        },
        {
            "cell_type": "markdown",
            "source": [
                "Ex 4: Join SalesOrderDetail and Product with right-join."
            ],
            "metadata": {
                "language": "sql",
                "azdata_cell_guid": "a39315c5-43b6-48b1-ab54-b00cc0f73887"
            },
            "attachments": {}
        },
        {
            "cell_type": "code",
            "source": [
                "SELECT \n",
                "    sod.SalesOrderID,\n",
                "    sod.ProductID,\n",
                "    sp.Name,\n",
                "    sod.OrderQty\n",
                "FROM \n",
                "    SalesLT.SalesOrderDetail AS sod\n",
                "RIGHT JOIN \n",
                "    SalesLT.Product AS sp\n",
                "ON \n",
                "    sod.ProductID = sp.ProductID;"
            ],
            "metadata": {
                "azdata_cell_guid": "c4187063-9927-43e6-8f41-9dc5eed910b5",
                "language": "sql",
                "tags": []
            },
            "outputs": [],
            "execution_count": null
        },
        {
            "cell_type": "markdown",
            "source": [
                "The SalesLT.SalesOrderDetail table (aliased as sod) and the SalesLT.Product tables (aliased as sp) are joined right in this query, guaranteeing that all rows from the right table (sp) and matching rows from the left table (sod) based on ProductID are included in the result set. Columns from the left table are allocated null values if there is no match."
            ],
            "metadata": {
                "language": "sql",
                "azdata_cell_guid": "1eef2ce1-da44-4ad7-b205-7879911bde5b"
            },
            "attachments": {}
        },
        {
            "cell_type": "markdown",
            "source": [
                "Ex 4:  Join SalesOrderDetail and Product with full -join."
            ],
            "metadata": {
                "language": "sql",
                "azdata_cell_guid": "7dd79d26-67a2-4ff9-8072-0f5fd5d1bec1"
            },
            "attachments": {}
        },
        {
            "cell_type": "code",
            "source": [
                "SELECT \n",
                "    sod.SalesOrderID,\n",
                "    sod.ProductID,\n",
                "    p.Name,\n",
                "    sod.OrderQty\n",
                "FROM \n",
                "    SalesLT.SalesOrderDetail AS sod\n",
                "FULL JOIN \n",
                "    SalesLT.Product AS p\n",
                "ON \n",
                "    sod.ProductID = p.ProductID;"
            ],
            "metadata": {
                "azdata_cell_guid": "f7f2452c-00d1-49fd-86c0-30a1fbc93501",
                "language": "sql"
            },
            "outputs": [],
            "execution_count": null
        },
        {
            "cell_type": "markdown",
            "source": [
                "The SalesLT.SalesOrderDetail table (aliased as sod) and the SalesLT.Product tables (aliased as p) are fully joined in the query above, guaranteeing that all rows from both tables are included in the result set regardless of whether a matching ProductID exists. Columns from the other table are assigned null values if there is no match."
            ],
            "metadata": {
                "language": "sql",
                "azdata_cell_guid": "ec7c69de-3d18-45fd-9410-2f68989da6ea"
            },
            "attachments": {}
        },
        {
            "cell_type": "markdown",
            "source": [
                "Ex4: Join SalesOrderDetail and Product with cross-join."
            ],
            "metadata": {
                "language": "sql",
                "azdata_cell_guid": "0817bedf-3ded-46c1-9afa-601402533f52"
            },
            "attachments": {}
        },
        {
            "cell_type": "code",
            "source": [
                "SELECT \n",
                "    sod.SalesOrderID,\n",
                "    sod.ProductID AS SalesProductID,\n",
                "    sp.ProductID AS ProductID,\n",
                "    sp.Name\n",
                "FROM \n",
                "    SalesLT.SalesOrderDetail AS sod\n",
                "CROSS JOIN \n",
                "    SalesLT.Product AS sp;"
            ],
            "metadata": {
                "azdata_cell_guid": "e49b8e91-031c-48b1-bf01-d8f13f5641c7",
                "language": "sql"
            },
            "outputs": [],
            "execution_count": null
        },
        {
            "cell_type": "markdown",
            "source": [
                "The SalesLT.SalesOrderDetail table (aliased as sod) and the SalesLT.Product table (aliased as sp) are cross-joined by this query, producing a Cartesian product that combines all of the rows from the two tables."
            ],
            "metadata": {
                "language": "sql",
                "azdata_cell_guid": "74079a80-9738-4591-a846-0f84de3d05b5"
            },
            "attachments": {}
        },
        {
            "cell_type": "markdown",
            "source": [
                "Ex 4: join SalesOrderHeader and Customer with inner-Join"
            ],
            "metadata": {
                "language": "sql",
                "azdata_cell_guid": "d2868692-e45e-4768-a381-a18339458c16"
            },
            "attachments": {}
        },
        {
            "cell_type": "code",
            "source": [
                "SELECT \n",
                "    soh.SalesOrderID,\n",
                "    soh.OrderDate,\n",
                "    sc.CustomerID,\n",
                "    sc.FirstName,\n",
                "    sc.LastName\n",
                "FROM \n",
                "    SalesLT.SalesOrderHeader AS soh\n",
                "INNER JOIN \n",
                "    SalesLT.Customer AS sc\n",
                "ON \n",
                "    soh.CustomerID = sc.CustomerID;"
            ],
            "metadata": {
                "azdata_cell_guid": "b4b3368d-23ea-4584-91b6-8f3c3b966c6c",
                "language": "sql"
            },
            "outputs": [],
            "execution_count": null
        },
        {
            "cell_type": "markdown",
            "source": [
                "Using an inner join between the SalesLT.SalesOrderHeader (aliased as soh) and SalesLT.Customer (aliased as sc) tables, this query retrieves customer and sales order details based on matched CustomerIDs."
            ],
            "metadata": {
                "language": "sql",
                "azdata_cell_guid": "806fe09e-b0f3-4589-9fd7-81544ac3862c"
            },
            "attachments": {}
        }
    ]
}